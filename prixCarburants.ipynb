{
 "nbformat": 4,
 "nbformat_minor": 2,
 "metadata": {
  "language_info": {
   "name": "python",
   "codemirror_mode": {
    "name": "ipython",
    "version": 3
   },
   "version": "3.8.2-final"
  },
  "orig_nbformat": 2,
  "file_extension": ".py",
  "mimetype": "text/x-python",
  "name": "python",
  "npconvert_exporter": "python",
  "pygments_lexer": "ipython3",
  "version": 3,
  "kernelspec": {
   "name": "python38232bitb47cb3d92cda4ab596b74a09bc584b50",
   "display_name": "Python 3.8.2 32-bit"
  }
 },
 "cells": [
  {
   "cell_type": "markdown",
   "metadata": {},
   "source": [
    "# Récupération des prix du carburant"
   ],
   "execution_count": null,
   "outputs": []
  },
  {
   "cell_type": "code",
   "execution_count": 8,
   "metadata": {},
   "outputs": [],
   "source": [
    "import os.path\n",
    "import zipfile\n",
    "import requests\n",
    "import xml.etree.ElementTree as ET"
   ]
  },
  {
   "cell_type": "markdown",
   "metadata": {},
   "source": [
    "Les données du prix du carburant sont mises à disposition l'état français sur le site [\"le prix des carburants\"](https://www.prix-carburants.gouv.fr/rubrique/opendata/). Nous les récupérons sous forme d'une archive au format ZIP contenant les données au format XML. Nous récupérons le flux \"instantané\" (-10min)."
   ],
   "execution_count": null,
   "outputs": []
  },
  {
   "cell_type": "code",
   "execution_count": 3,
   "metadata": {},
   "outputs": [],
   "source": [
    "data_url = \"https://donnees.roulez-eco.fr/opendata/instantane\"\n",
    "data_rawResult = requests.get(data_url, allow_redirects=True)\n",
    "data_zipFilename = \"PrixCarburantsInstantane.zip\"\n",
    "data_xmlFilename = \"PrixCarburants_instantane.xml\""
   ]
  },
  {
   "cell_type": "markdown",
   "metadata": {},
   "source": [
    "Voici la description des données indiquée par le site:\n",
    "\n",
    "| Nom | \tType \t| Description |\n",
    "|-----|-------------|-------------|\n",
    "| pdv_liste | nœud  |\tListe des points de vente |\n",
    "| pdv | nœud | Point de vente |\n",
    "| id | attribut     | Identifiant du point de vente |\n",
    "| latitude | attribut | Latitude (coordonnée géographique) à diviser par 100000 pour avoir la latitude en coordonnées GeoDecimal (WSG84) (*) |\n",
    "| longitude | attribut | Longitude (coordonnée géographique) à diviser par 100000 pour avoir la longitude en coordonnées GeoDecimal (WSG84) (*) |\n",
    "| cp | attribut | Code postal |\n",
    "| pop |\tattribut | Présence de la station (A = autoroute, R = route) |\n",
    "| adresse |\tnœud | Adresse du point de vente |\n",
    "| ville | nœud | Ville |\n",
    "| ouverture | nœud | Les horaires d’ouverture |\n",
    "| debut | attribut | L’heure d’ouverture (hh:mm) |\n",
    "| fin | attribut | L’heure de fermeture (hh:mm) |\n",
    "| saufjour | attribut |\tJour(s) de fermeture (Lundi, Mardi, Mercredi, Jeudi, Vendredi, Samedi, Dimanche) |\n",
    "| services | nœud |\tListe des services proposés par le point de vente |\n",
    "| service | nœud | Nom du service |\n",
    "| prix | nœud |\tPrix du carburant |\n",
    "| id | attribut | Id du carburant |\n",
    "| nom |\tattribut | Nom du carburant (Gazole, SP95, SP98, GPLc, E10, E85) |\n",
    "| maj |\tattribut | Date de la dernière mise à jour (AAAA-MM-JJ HH:mm:ss) |\n",
    "| valeur | attribut | Prix en euros multiplié par 1000 |\n",
    "| rupture |\tnœud | Rupture de stock ou non-distribution d’un carburant |\n",
    "| id | attribut | Id du carburant |\n",
    "| nom |\tattribut | Nom du carburant |\n",
    "| debut | attribut | Date de début (AAAA-MM-JJ HH:mm:ss) |\n",
    "| fin | attribut | Date de fin (si renseignée)  (AAAA-MM-JJ HH:mm:ss) |\n",
    "| fermeture | nœud | fermeture du point de vente |\n",
    "| type | attribut | Type de fermeture (temporaire ou définitive) |\n",
    "| debut | attribut | Date de début (AAAA-MM-JJ HH:mm:ss) |\n",
    "| fin | attribut |\tDate de fin (si temporaire) (AAAA-MM-JJ HH:mm:ss) |\n",
    "\n",
    "(*) : Les coordonnées du système du prix des carburants sont en PTV_GEODECIMAL. Cette unité est une variante du système standard geodecimal WGS84 (coordonnées GPS habituelles).\n",
    "\n",
    "Pour convertir les coordonnées au format standard, il faut diviser les coordonnées fournies par 100000 :  \n",
    "    \n",
    "    Longitude standard  = Longitude fournie / 100000\n",
    "    Latitude standard = Latitude fournie / 100000\n"
   ],
   "execution_count": null,
   "outputs": []
  },
  {
   "cell_type": "markdown",
   "metadata": {},
   "source": [
    "Nous vérifions que le fichier existe en local avant de le télécharger:"
   ],
   "execution_count": null,
   "outputs": []
  },
  {
   "cell_type": "code",
   "execution_count": 4,
   "metadata": {},
   "outputs": [],
   "source": [
    "dataAvail = False\n",
    "if os.path.isfile(data_xmlFilename):\n",
    "    dataAvail = True\n",
    "else:\n",
    "    dataAvail = False"
   ]
  },
  {
   "cell_type": "markdown",
   "metadata": {},
   "source": [
    "Nous téléchargeons les données si elles n'existent pas encore en local, nous les extrayons de l'archive puis nous travaillons à partir de la version locale des données:"
   ],
   "execution_count": null,
   "outputs": []
  },
  {
   "cell_type": "code",
   "execution_count": 42,
   "metadata": {
    "tags": [
     "outputPrepend",
     "outputPrepend",
     "outputPrepend",
     "outputPrepend",
     "outputPrepend",
     "outputPrepend",
     "outputPrepend",
     "outputPrepend",
     "outputPrepend"
    ]
   },
   "outputs": [
    {
     "output_type": "stream",
     "name": "stdout",
     "text": "{'nom': 'Gazole', 'id': '1', 'maj': '2020-03-10 09:24:18', 'valeur': '1.424'}\n{'nom': 'Gazole', 'id': '1', 'maj': '2020-04-09 06:35:26', 'valeur': '1.217'}\n"
    }
   ],
   "source": [
    "if dataAvail == False:\n",
    "    open(data_zipFilename, 'wb').write(data_rawResult.content)\n",
    "    with zipfile.ZipFile(data_rawFilename,\"r\") as zip_ref:\n",
    "        zip_ref.extractall()\n",
    "    os.remove(data_zipFilename)\n",
    "\n",
    "tree = ET.parse(data_xmlFilename)\n",
    "root = tree.getroot()\n",
    "\n",
    "for prix in tree.findall(\".//*[@cp='57580']/prix[@nom='Gazole']\"):\n",
    "    print(prix.attrib)"
   ]
  }
 ]
}